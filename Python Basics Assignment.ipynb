{
 "cells": [
  {
   "cell_type": "markdown",
   "id": "29720d20-79a2-452b-a403-667b1925d006",
   "metadata": {},
   "source": [
    "# Python basics assignment - 1"
   ]
  },
  {
   "cell_type": "raw",
   "id": "f6d0b075-6a60-4b72-b8c4-a1b40f541e04",
   "metadata": {},
   "source": [
    "Q1. Explain the key features of python that make it a popular choice for programming?"
   ]
  },
  {
   "cell_type": "raw",
   "id": "0a384bb3-c4b9-4b71-8ed7-a8571cfc043c",
   "metadata": {},
   "source": [
    "Answer: The key features of Python are :\n",
    "1. Easy to use, read, and learn -> This is because Python's syntax is straightforward, clear and easy to read, making it a default language for both beginners and experienced programmers. This programming language is also used to lead projects to faster development and reduce major and minor errors.\n",
    "2. High-level programming language -> It means human readable code.\n",
    "3. Open-Source programming language -> Python is free to download in other words it is a freely available programming language on the internet anyone can access without any cost.\n",
    "4. The python programming can be widely used in the technical industries. Mainly it can be used in the data handling industries i.e. for Data Science, Data Analysis, Business Analysis, Data Engineering etc.\n",
    "5. Versatility -> Python is a general-purpose language, meaning it can be used for a wide variety of applications. Whether you’re working on web development, data analysis, artificial intelligence, scientific computing, or automation, Python has a large number of libraries and frameworks to support these tasks.\n",
    "6. Extensive Standard Library -> Python comes with a comprehensive standard library that provides modules and functions for various tasks, such as file handling, regular expressions, and web services. This reduces the need to write code from scratch and speeds up development.\n",
    "7. Community Support -> Python has a large and active community that contributes to a wealth of resources, including tutorials, documentation, and forums. This strong community support means that developers can easily find help and collaborate with others.\n",
    "8. Cross-Platform Compatibility -> Python runs on various operating systems, including Windows, macOS, and Linux. This cross-platform compatibility ensures that Python applications can be developed and executed on different systems without modification.\n",
    "9. Object-Oriented and Functional Programming -> Python supports multiple programming paradigms, including object-oriented programming (OOP) and functional programming. This flexibility allows developers to use the most suitable approach for their tasks.\n",
    "10. Large Ecosystem of Libraries and Frameworks -> Python has a rich ecosystem of third-party libraries and frameworks, which makes it easier to build complex applications. Popular libraries include NumPy and Pandas for data analysis, Django and Flask for web development, and TensorFlow and PyTorch for machine learning.\n",
    "11. Dynamic Typing -> Python uses dynamic typing, meaning that you don’t need to declare the type of a variable when you create it. This feature allows for more flexibility and faster coding but requires careful attention to avoid type-related bugs.\n",
    "12. Interpreted Language -> Python is an interpreted language, meaning that code is executed line by line, which makes debugging easier and speeds up the development cycle. This also means you don't need to compile your code before running it."
   ]
  },
  {
   "cell_type": "raw",
   "id": "9e0796ee-af99-4164-aef9-2129ddd30134",
   "metadata": {},
   "source": [
    "Q2. Describe the role of predefined keywords in Python and provide examples of how they are used in a program?"
   ]
  },
  {
   "cell_type": "raw",
   "id": "37ceb8f4-7bb7-4de9-9062-f0bed312b355",
   "metadata": {},
   "source": [
    "Answer. In python, the predefined keywords are also known as reserved words which means they are fixed with this python programming language. These are the words that have special meanings and are reserved for specific syntactic purposes. These keywords are an integral part of the language's structure, and we cannot use them as variables/identifiers. Each keyword serves a particular function within the language, dictating the operations and structure of the code."
   ]
  },
  {
   "cell_type": "code",
   "execution_count": 1,
   "id": "ba7cac49",
   "metadata": {},
   "outputs": [
    {
     "name": "stdout",
     "output_type": "stream",
     "text": [
      "\n",
      "Here is a list of the Python keywords.  Enter any keyword to get more help.\n",
      "\n",
      "False               class               from                or\n",
      "None                continue            global              pass\n",
      "True                def                 if                  raise\n",
      "and                 del                 import              return\n",
      "as                  elif                in                  try\n",
      "assert              else                is                  while\n",
      "async               except              lambda              with\n",
      "await               finally             nonlocal            yield\n",
      "break               for                 not                 \n",
      "\n"
     ]
    }
   ],
   "source": [
    "''' For Example in Python programming language there are many predefined keywords that are mentioned below'''\n",
    "help('keywords')"
   ]
  },
  {
   "cell_type": "code",
   "execution_count": 2,
   "id": "055df5b2",
   "metadata": {},
   "outputs": [
    {
     "name": "stdout",
     "output_type": "stream",
     "text": [
      "Yes, it is greater value\n"
     ]
    }
   ],
   "source": [
    "# let us now look into an example\n",
    "\n",
    "x = 10 #assigning value to an identifier or a variable.\n",
    "if x > 5: #By using conditional statement. Here it will check whether the value of x is greater than 5 or not.\n",
    "    print(\"Yes, it is greater value\") #If it's true then it will provide/give the output as \"Yes, it is greater value\". let's check"
   ]
  },
  {
   "cell_type": "code",
   "execution_count": 3,
   "id": "fdbe780d",
   "metadata": {},
   "outputs": [
    {
     "name": "stdout",
     "output_type": "stream",
     "text": [
      "Shanmuk\n"
     ]
    },
    {
     "data": {
      "text/plain": [
       "str"
      ]
     },
     "execution_count": 3,
     "metadata": {},
     "output_type": "execute_result"
    }
   ],
   "source": [
    "#Let's look into an another simple example\n",
    "x = \"Shanmuk\"\n",
    "print(x) #Here the 'print' is a predefined keyword in the python programming language which is used to provide the output.\n",
    "type(x) #Here the 'type' is also a predefined keyword which is used to determine the data type of the given value."
   ]
  },
  {
   "cell_type": "raw",
   "id": "b13a7cbd",
   "metadata": {},
   "source": [
    "Q3. Compare and contrast the mutable and immutable objects in python with examples?"
   ]
  },
  {
   "cell_type": "raw",
   "id": "93355fb5",
   "metadata": {},
   "source": [
    "Answer. In Python, containers/objects can be classified as mutable or immutable based on whether or not they can be\n",
    "edited/modified after they are created in the memory block.\n",
    "\n",
    "Mutability -> The objects/containers whose state/contents can be changed after they are created. This means that we can able to alter the data stored in the object without creating a new object. It supports item assignment.\n",
    "*** The best example of mutability is list. By mutability of an object, the memory can be used efficiently(less usage of memory).\n",
    "\n",
    "Immutability -> The objects/containers whose state/contents cannot be changed after they are created. If we want to modify an immutable object, we have ti crete a new object with the updated value. It doesn't supports the item assignment.\n",
    "***The best example of immutability is string. By immutability of an object, the more memory can be used.\n",
    "\n",
    "Let's deeply dive into the examples of both mutability and immutability"
   ]
  },
  {
   "cell_type": "code",
   "execution_count": 4,
   "id": "25a99dd9",
   "metadata": {},
   "outputs": [],
   "source": [
    "#Example of mutable objects\n",
    "\n",
    "my_list = [1,2,3,4.9,5+6j,\"Shanmuk\",True] #The list in python supports all datatypes and can be represented with the help of square brackets.\n",
    "\n",
    "#Here I declared all objects in my list"
   ]
  },
  {
   "cell_type": "code",
   "execution_count": 6,
   "id": "59fd4866",
   "metadata": {},
   "outputs": [
    {
     "data": {
      "text/plain": [
       "1"
      ]
     },
     "execution_count": 6,
     "metadata": {},
     "output_type": "execute_result"
    }
   ],
   "source": [
    "# Let's check this in object-wise (Each and every indices)\n",
    "\n",
    "my_list[0] #it displays the oth index value which was stored in the memory"
   ]
  },
  {
   "cell_type": "code",
   "execution_count": 7,
   "id": "cc4ee1b4",
   "metadata": {},
   "outputs": [
    {
     "data": {
      "text/plain": [
       "4.9"
      ]
     },
     "execution_count": 7,
     "metadata": {},
     "output_type": "execute_result"
    }
   ],
   "source": [
    "my_list[3] #it displays the 3rd index value which was stored in the memory"
   ]
  },
  {
   "cell_type": "code",
   "execution_count": 8,
   "id": "9d063322",
   "metadata": {},
   "outputs": [
    {
     "data": {
      "text/plain": [
       "(5+6j)"
      ]
     },
     "execution_count": 8,
     "metadata": {},
     "output_type": "execute_result"
    }
   ],
   "source": [
    "my_list[4] #it displays the 4th index value which was stored in the memory"
   ]
  },
  {
   "cell_type": "code",
   "execution_count": 9,
   "id": "4a3625d1",
   "metadata": {},
   "outputs": [],
   "source": [
    "#Now I want to change/modify the value of the 0th index in my_list\n",
    "my_list[0] = 100"
   ]
  },
  {
   "cell_type": "code",
   "execution_count": 10,
   "id": "94e385d6",
   "metadata": {},
   "outputs": [
    {
     "data": {
      "text/plain": [
       "[100, 2, 3, 4.9, (5+6j), 'Shanmuk', True]"
      ]
     },
     "execution_count": 10,
     "metadata": {},
     "output_type": "execute_result"
    }
   ],
   "source": [
    "my_list #Now I'm displaying my modified list values."
   ]
  },
  {
   "cell_type": "code",
   "execution_count": 12,
   "id": "09165196",
   "metadata": {},
   "outputs": [
    {
     "data": {
      "text/plain": [
       "'Marq'"
      ]
     },
     "execution_count": 12,
     "metadata": {},
     "output_type": "execute_result"
    }
   ],
   "source": [
    "#Example of immutable object\n",
    "\n",
    "a = 'Marq' #Here I'm assigning value(string) to a variable \n",
    "\n",
    "a"
   ]
  },
  {
   "cell_type": "code",
   "execution_count": 13,
   "id": "0684e842",
   "metadata": {},
   "outputs": [
    {
     "ename": "TypeError",
     "evalue": "'str' object does not support item assignment",
     "output_type": "error",
     "traceback": [
      "\u001b[0;31m---------------------------------------------------------------------------\u001b[0m",
      "\u001b[0;31mTypeError\u001b[0m                                 Traceback (most recent call last)",
      "Cell \u001b[0;32mIn[13], line 3\u001b[0m\n\u001b[1;32m      1\u001b[0m \u001b[38;5;66;03m#Now I want to change the 0th index i.e from 'M' to 'D'. Let's Check\u001b[39;00m\n\u001b[0;32m----> 3\u001b[0m a[\u001b[38;5;241m0\u001b[39m] \u001b[38;5;241m=\u001b[39m \u001b[38;5;124m'\u001b[39m\u001b[38;5;124mD\u001b[39m\u001b[38;5;124m'\u001b[39m\n",
      "\u001b[0;31mTypeError\u001b[0m: 'str' object does not support item assignment"
     ]
    }
   ],
   "source": [
    "#Now I want to change the 0th index i.e from 'M' to 'D'. Let's Check\n",
    "\n",
    "a[0] = 'D'"
   ]
  },
  {
   "cell_type": "raw",
   "id": "d817604c",
   "metadata": {},
   "source": [
    "Q4. Discuss the different types of operators in Python and provide examples of how they are used?"
   ]
  },
  {
   "cell_type": "raw",
   "id": "18ddbfad",
   "metadata": {},
   "source": [
    "Answer. In Python, operators are special symbols that perform operations on variables and values. Python supports several types of operators, each serving a specific purpose in manipulating data and executing computations.\n",
    "\n",
    "1. Arithmetic Operators -> Arithmetic operators are used to perform basic mathematical operations.\n",
    "2. Comparison (Relational) Operators -> Comparison operators compare two values and return a Boolean result (True or False).\n",
    "3. Logical operators are used to combine conditional statements and return Boolean values.\n",
    "4. Bitwise operators perform operations on the binary representations of integers.\n",
    "5. Assignment operators are used to assign values to variables, often in combination with arithmetic operations.\n",
    "6. Membership operators test whether a value or variable is found in a sequence (like a list).\n",
    "7. Identity operators check whether two variables refer to the same object in memory.\n",
    "\n",
    "Let's deeply dive into the examples of each and every operator."
   ]
  },
  {
   "cell_type": "code",
   "execution_count": 14,
   "id": "a0eec18e",
   "metadata": {},
   "outputs": [
    {
     "name": "stdout",
     "output_type": "stream",
     "text": [
      "13\n",
      "7\n",
      "30\n",
      "3.3333333333333335\n",
      "1\n",
      "1000\n",
      "3\n"
     ]
    }
   ],
   "source": [
    "#Examples of arithmetic operators\n",
    "a = 10\n",
    "b = 3\n",
    "print(a + b)  # Performing addition of two numbers.\n",
    "print(a - b)  # Performing subtraction of two numbers.\n",
    "print(a * b)  # Performing multiplication of two numbers.\n",
    "print(a / b)  # Performing division of two numbers.\n",
    "print(a % b)  # Performing modulus(remainder) of two numbers.\n",
    "print(a ** b)  # Performing exponential of two numbers.\n",
    "print(a // b) # Performing floor division(quotient) of two numbers.\n"
   ]
  },
  {
   "cell_type": "code",
   "execution_count": 15,
   "id": "592aef4d",
   "metadata": {},
   "outputs": [
    {
     "name": "stdout",
     "output_type": "stream",
     "text": [
      "False\n",
      "True\n",
      "False\n",
      "True\n",
      "True\n",
      "True\n"
     ]
    }
   ],
   "source": [
    "#Examples of comparison operators (true or false)\n",
    "\n",
    "x = 10\n",
    "y = 20\n",
    "print(x == y)  # Equals to \n",
    "print(x != y)  # Not equals to \n",
    "print(x > y)   # Greater than\n",
    "print(x < y)   # Less than\n",
    "print(x >= 10) # Greater than or equal to\n",
    "print(x <= y)  # Less than or equal to\n"
   ]
  },
  {
   "cell_type": "code",
   "execution_count": 16,
   "id": "636edbe2",
   "metadata": {},
   "outputs": [
    {
     "name": "stdout",
     "output_type": "stream",
     "text": [
      "False\n",
      "True\n",
      "False\n"
     ]
    }
   ],
   "source": [
    "#Examples of Logical operators\n",
    "\n",
    "x = True\n",
    "y = False\n",
    "print(x and y)  # Usage of and\n",
    "print(x or y)   # Usage of or\n",
    "print(not x)    # Usage of not"
   ]
  },
  {
   "cell_type": "code",
   "execution_count": 17,
   "id": "dc272643",
   "metadata": {},
   "outputs": [
    {
     "name": "stdout",
     "output_type": "stream",
     "text": [
      "15\n",
      "30\n",
      "10\n"
     ]
    }
   ],
   "source": [
    "#Examples of Assignment operators\n",
    "\n",
    "x = 10\n",
    "x += 5  # x = x + 5\n",
    "print(x)  # Output: 15\n",
    "x *= 2  # x = x * 2\n",
    "print(x)  # Output: 30\n",
    "x //= 3  # x = x // 3\n",
    "print(x)  # Output: 10"
   ]
  },
  {
   "cell_type": "code",
   "execution_count": 18,
   "id": "1c40edd0",
   "metadata": {},
   "outputs": [
    {
     "name": "stdout",
     "output_type": "stream",
     "text": [
      "1\n",
      "7\n",
      "6\n",
      "-6\n",
      "10\n",
      "2\n"
     ]
    }
   ],
   "source": [
    "#Examples of Bitwise operators\n",
    "a = 5 \n",
    "b = 3  \n",
    "print(a & b)  \n",
    "print(a | b)  \n",
    "print(a ^ b) \n",
    "print(~a)     \n",
    "print(a << 1) \n",
    "print(a >> 1) \n"
   ]
  },
  {
   "cell_type": "code",
   "execution_count": 19,
   "id": "ca3bef8b",
   "metadata": {},
   "outputs": [
    {
     "name": "stdout",
     "output_type": "stream",
     "text": [
      "False\n",
      "True\n",
      "True\n"
     ]
    }
   ],
   "source": [
    "#Examples of identity operators\n",
    "x = [1, 2, 3]\n",
    "y = [1, 2, 3]\n",
    "z = x\n",
    "print(x is y)   # Output: False (different objects with same content)\n",
    "print(x is z)   # Output: True (same object)\n",
    "print(x is not y)  # Output: True"
   ]
  },
  {
   "cell_type": "code",
   "execution_count": 21,
   "id": "0e1f6beb",
   "metadata": {},
   "outputs": [
    {
     "name": "stdout",
     "output_type": "stream",
     "text": [
      "True\n",
      "False\n"
     ]
    }
   ],
   "source": [
    "#Examples of membership operators\n",
    "my_list = [1, 2, 3, 4, 5]\n",
    "print(3 in my_list)    # Output: True\n",
    "print(5 not in my_list)  # Output: True"
   ]
  },
  {
   "cell_type": "raw",
   "id": "1f29add2",
   "metadata": {},
   "source": [
    "Q5. Explain the concept of type casting in Python with examples"
   ]
  },
  {
   "cell_type": "raw",
   "id": "7fc94453",
   "metadata": {},
   "source": [
    "Answer. Type casting in Python refers to the conversion of one data type into another. This is useful when you need to perform operations on variables or data types that are not naturally compatible. Python provides several built-in functions to perform type casting, enabling the conversion between different data types. In other words the process changing the data type of a value/ object.\n",
    "\n",
    "Types of type casting ->\n",
    "\n",
    "1. Implicit Type Casting -> Implicit type casting is automatically performed by Python when it encounters mixed data types during an operation. Python converts the lower data type (e.g., int) to a higher data type (e.g., float) to prevent data loss.\n",
    "\n",
    "2. Explicit Type Casting -> Explicit type casting is when you manually convert one data type to another using Python's built-in functions. This is done to ensure that data is in the correct format for operations or functions that require a specific type. \n",
    "\n",
    "Let's deeply dive into the examples of both types of type casting."
   ]
  },
  {
   "cell_type": "code",
   "execution_count": 22,
   "id": "dbf61507",
   "metadata": {},
   "outputs": [
    {
     "name": "stdout",
     "output_type": "stream",
     "text": [
      "13.5\n",
      "<class 'float'>\n"
     ]
    }
   ],
   "source": [
    "#Examples of Implicit type casting\n",
    "x = 10   # int data type\n",
    "y = 3.5  # float data type\n",
    "\n",
    "result = x + y  # int + float results in float\n",
    "print(result)   # displays the output\n",
    "print(type(result)) #Let's check\n"
   ]
  },
  {
   "cell_type": "code",
   "execution_count": 23,
   "id": "4d58cec4",
   "metadata": {},
   "outputs": [
    {
     "name": "stdout",
     "output_type": "stream",
     "text": [
      "3\n",
      "<class 'int'>\n"
     ]
    }
   ],
   "source": [
    "#Example of Explicit type conversion\n",
    "a = 3.14 #float data type\n",
    "b = int(a) #converting to other data type\n",
    "print(b)  \n",
    "print(type(b)) \n"
   ]
  },
  {
   "cell_type": "raw",
   "id": "08e71639",
   "metadata": {},
   "source": [
    "Q6. How do conditional statements work in Python? Illustrate with examples?"
   ]
  },
  {
   "cell_type": "raw",
   "id": "9462e851",
   "metadata": {},
   "source": [
    "Answer. Conditional statements in Python allow the execution of different blocks of code based on certain conditions. These statements enable decision-making in programs, where the flow of execution changes depending on whether a condition is true or false.\n",
    "\n",
    "Types of conditional statements ->\n",
    "\n",
    " 1. if Statement -> The if statement is the simplest form of a conditional. It executes a block of code only if the specified condition is True.\n",
    " \n",
    " 2. if-else Statement -> The if-else statement provides an alternative block of code to execute if the condition is False.\n",
    " \n",
    " 3. if-elif-else Statement -> The if-elif-else statement is used when there are multiple conditions to check. The elif (short for \"else if\") allows you to check multiple conditions sequentially.\n",
    " \n",
    " 4. Nested if Statements -> Nested if statements are if statements placed inside another if or else block. They allow you to check conditions within conditions.\n",
    "\n",
    "Let's deeply dive into the examples of each conditional statements"
   ]
  },
  {
   "cell_type": "code",
   "execution_count": 24,
   "id": "4c127686",
   "metadata": {},
   "outputs": [
    {
     "name": "stdout",
     "output_type": "stream",
     "text": [
      "You are eligible to get driving licence.\n"
     ]
    }
   ],
   "source": [
    "#Example of if statement\n",
    "\n",
    "age = 18\n",
    "if age >= 18:\n",
    "    print(\"You are eligible to get driving licence.\")\n"
   ]
  },
  {
   "cell_type": "code",
   "execution_count": 25,
   "id": "ddcedaff",
   "metadata": {},
   "outputs": [
    {
     "name": "stdout",
     "output_type": "stream",
     "text": [
      "You are not eligible to get DL.\n"
     ]
    }
   ],
   "source": [
    "#Example of if-else statement\n",
    "\n",
    "age = 16\n",
    "if age >= 18:\n",
    "    print(\"You are eligible to get driving license.\")\n",
    "else:\n",
    "    print(\"You are not eligible to get DL.\")\n"
   ]
  },
  {
   "cell_type": "code",
   "execution_count": 26,
   "id": "2c97ee4c",
   "metadata": {},
   "outputs": [
    {
     "name": "stdout",
     "output_type": "stream",
     "text": [
      "Grade: B\n"
     ]
    }
   ],
   "source": [
    "#Example of if-elif-else statement\n",
    "\n",
    "marks = 85\n",
    "\n",
    "if marks >= 90:\n",
    "    print(\"Grade: A\")\n",
    "elif marks >= 75:\n",
    "    print(\"Grade: B\")\n",
    "elif marks >= 60:\n",
    "    print(\"Grade: C\")\n",
    "else:\n",
    "    print(\"You are not eligible for next class\")\n"
   ]
  },
  {
   "cell_type": "code",
   "execution_count": 27,
   "id": "1c668112",
   "metadata": {},
   "outputs": [
    {
     "name": "stdout",
     "output_type": "stream",
     "text": [
      "The number is positive.\n",
      "The number is even.\n"
     ]
    }
   ],
   "source": [
    "#Example of nested-if statement\n",
    "\n",
    "num = 10\n",
    "\n",
    "if num > 0:\n",
    "    print(\"The number is positive.\")\n",
    "    if num % 2 == 0:\n",
    "        print(\"The number is even.\")\n",
    "    else:\n",
    "        print(\"The number is odd.\")\n",
    "else:\n",
    "    print(\"The number is negative or zero.\")\n"
   ]
  },
  {
   "cell_type": "raw",
   "id": "edb2132b",
   "metadata": {},
   "source": [
    "Q7. Describe the different types of loops in Python and their use cases with examples?"
   ]
  },
  {
   "cell_type": "raw",
   "id": "bd34845c",
   "metadata": {},
   "source": [
    "Answer. Loops in Python are used to repeatedly execute a block of code as long as a specific condition is met. In other words it allows you to execute a block of code repeatedly.\n",
    "\n",
    "Types of loops ->\n",
    "\n",
    "1. for loop -> The for loop in Python is used to iterate over a sequence (such as a list, string etc) or any other iterable object. It allows you to execute a block of code for each item in the sequence.\n",
    "\n",
    "Use cases:\n",
    "\n",
    "1. Iterating through items in a list, tuple, or dictionary.\n",
    "2. Repeating operations for a specific number of times.\n",
    "3. Traversing characters in a string.\n",
    "\n",
    "2. while loop -> The while loop in Python continues to execute a block of code as long as the specified condition remains True. It is used when the number of iterations is not known in advance and depends on the condition.\n",
    "\n",
    "Use cases:\n",
    "\n",
    "1. Executing a block of code repeatedly until a condition becomes False.\n",
    "2. Creating loops that depend on dynamic conditions.\n",
    "3. Implementing features like input validation.\n",
    "\n",
    "Let's check the basic examples of both loop concepts"
   ]
  },
  {
   "cell_type": "code",
   "execution_count": 28,
   "id": "39f9b3ff",
   "metadata": {},
   "outputs": [
    {
     "name": "stdout",
     "output_type": "stream",
     "text": [
      "apple\n",
      "guava\n",
      "orange\n"
     ]
    }
   ],
   "source": [
    "#Example 1 of for loop \n",
    "\n",
    "fruits = [\"apple\", \"guava\", \"orange\"]\n",
    "\n",
    "for fruit in fruits:\n",
    "    print(fruit)\n"
   ]
  },
  {
   "cell_type": "code",
   "execution_count": 29,
   "id": "6e2e0204",
   "metadata": {},
   "outputs": [
    {
     "name": "stdout",
     "output_type": "stream",
     "text": [
      "0\n",
      "1\n",
      "2\n",
      "3\n",
      "4\n",
      "5\n",
      "6\n",
      "7\n",
      "8\n",
      "9\n"
     ]
    }
   ],
   "source": [
    "#Example 2 of for loop \n",
    "\n",
    "for i in range(10):\n",
    "    print(i)"
   ]
  },
  {
   "cell_type": "code",
   "execution_count": 30,
   "id": "b569d10e",
   "metadata": {},
   "outputs": [
    {
     "name": "stdout",
     "output_type": "stream",
     "text": [
      "0\n",
      "1\n",
      "2\n",
      "3\n",
      "4\n",
      "5\n",
      "6\n",
      "7\n",
      "8\n",
      "9\n"
     ]
    }
   ],
   "source": [
    "#Example 1 of while loop\n",
    "\n",
    "count = 0\n",
    "\n",
    "while count < 10:\n",
    "    print(count)\n",
    "    count += 1\n"
   ]
  },
  {
   "cell_type": "code",
   "execution_count": 31,
   "id": "a40cafd6",
   "metadata": {},
   "outputs": [
    {
     "name": "stdout",
     "output_type": "stream",
     "text": [
      "Enter a positive number: 10\n",
      "Thank you!\n"
     ]
    }
   ],
   "source": [
    "#Example 2 of while loop\n",
    "\n",
    "while True:\n",
    "    number = int(input(\"Enter a positive number: \"))\n",
    "    if number > 0:\n",
    "        print(\"Thank you!\")\n",
    "        break\n",
    "    else:\n",
    "        print(\"That's not a positive number. Try again.\")\n"
   ]
  },
  {
   "cell_type": "code",
   "execution_count": null,
   "id": "85747fb3",
   "metadata": {},
   "outputs": [],
   "source": []
  }
 ],
 "metadata": {
  "kernelspec": {
   "display_name": "Python 3 (ipykernel)",
   "language": "python",
   "name": "python3"
  },
  "language_info": {
   "codemirror_mode": {
    "name": "ipython",
    "version": 3
   },
   "file_extension": ".py",
   "mimetype": "text/x-python",
   "name": "python",
   "nbconvert_exporter": "python",
   "pygments_lexer": "ipython3",
   "version": "3.11.5"
  }
 },
 "nbformat": 4,
 "nbformat_minor": 5
}
