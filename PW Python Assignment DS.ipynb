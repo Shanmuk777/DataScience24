{
 "cells": [
  {
   "cell_type": "markdown",
   "id": "bd7bddd0",
   "metadata": {},
   "source": [
    "# Python Data Structures Assignment"
   ]
  },
  {
   "cell_type": "raw",
   "id": "302341cd",
   "metadata": {},
   "source": [
    "Q1. Discuss string slicing and provide examples?"
   ]
  },
  {
   "cell_type": "raw",
   "id": "f4e47ce7",
   "metadata": {},
   "source": [
    "Answer. String slicing is a powerful feature in many programming languages, particularly in Python. It allows you to extract a subset of characters from a string based on specified start and end positions. The basic syntax for slicing a string is\n",
    "\n",
    "string[start:end:step]\n",
    "\n",
    "Here the start means the index where the slice begins\n",
    "the end means the index where the slice ends\n",
    "the step means the interval between the each index of the slice.\n",
    "\n",
    "Let's deeply dive into the examples of slicing"
   ]
  },
  {
   "cell_type": "code",
   "execution_count": 2,
   "id": "83edac4e",
   "metadata": {},
   "outputs": [
    {
     "name": "stdout",
     "output_type": "stream",
     "text": [
      "Sha\n"
     ]
    }
   ],
   "source": [
    "#Examples of string slicing\n",
    "\n",
    "my_test = 'Shanmuk'\n",
    "\n",
    "slic = my_test[0:3]\n",
    "\n",
    "print(slic)"
   ]
  },
  {
   "cell_type": "code",
   "execution_count": 3,
   "id": "4bca5547",
   "metadata": {},
   "outputs": [],
   "source": [
    "#Example 2 of string slicing"
   ]
  },
  {
   "cell_type": "code",
   "execution_count": 4,
   "id": "9bd78d4f",
   "metadata": {},
   "outputs": [
    {
     "name": "stdout",
     "output_type": "stream",
     "text": [
      "han\n"
     ]
    }
   ],
   "source": [
    "slic2 = my_test[1:4]\n",
    "\n",
    "print(slic2)"
   ]
  },
  {
   "cell_type": "code",
   "execution_count": 5,
   "id": "b91e3a6d",
   "metadata": {},
   "outputs": [
    {
     "name": "stdout",
     "output_type": "stream",
     "text": [
      "kumnahS\n"
     ]
    }
   ],
   "source": [
    "#example of the reversed the text\n",
    "\n",
    "revslic = my_test[::-1]\n",
    "print(revslic)"
   ]
  },
  {
   "cell_type": "raw",
   "id": "dfa8f046",
   "metadata": {},
   "source": [
    "Q2. Explain the key features of lists in Python ?"
   ]
  },
  {
   "cell_type": "raw",
   "id": "66f2ad6d",
   "metadata": {},
   "source": [
    "Answer. Lists are one of the most fundamental and versatile data structures in Python. They are ordered collections that can hold items of any type, and they provide a wide range of features for manipulating and accessing data. The basic key features of lists in Python programming language are given below.\n",
    "\n",
    "1. Lists maintain the order of elements as they are added. This means that the order in which you insert items is preserved, and you can access elements by their position (index).\n",
    "\n",
    "2. Lists are mutable, meaning you can change their content after creation. You can update, add, or remove elements from a list.\n",
    "\n",
    "3. Lists can grow or shrink dynamically as needed. You don't have to define the size in advance.\n",
    "\n",
    "4. Lists can contain elements of different data types, including integers, strings, other lists, and more.\n",
    "\n",
    "5. You can access individual elements using indexing and extract subsections of the list using slicing.\n",
    "\n",
    "6. Lists come with a variety of built-in methods for common operations, such as append(), remove(), extend(), sort(), and more. \n",
    "\n",
    "7. Lists can contain other lists, allowing for the creation of multi-dimensional data structures.\n",
    "\n",
    "8. Python supports list comprehensions, which provide a concise way to create lists by applying an expression to each item in an iterable."
   ]
  },
  {
   "cell_type": "raw",
   "id": "ea130253",
   "metadata": {},
   "source": [
    "Q3. Describe how to access, modify, and delete elements in a list with examples?"
   ]
  },
  {
   "cell_type": "raw",
   "id": "acd7c428",
   "metadata": {},
   "source": [
    "Answer. The fundamental operations of lists in Python programming language are accessing the elements, modifying the elements and deleting or removing the elements which are assigned to the variables.\n",
    "\n",
    "Let's understand this concept in detail with examples."
   ]
  },
  {
   "cell_type": "code",
   "execution_count": 6,
   "id": "7d8eede2",
   "metadata": {},
   "outputs": [
    {
     "name": "stdout",
     "output_type": "stream",
     "text": [
      "windows\n",
      "linux\n",
      "macos\n"
     ]
    }
   ],
   "source": [
    "#Accessing the elements in the list -> We can access individual elements in the list with the help of indexing. Python uses the zero indexing, so the first element has the index 0.\n",
    "\n",
    "my_list = ['windows', 'linux', 'macos']\n",
    "\n",
    "# Accessing elements by index\n",
    "first_element = my_list[0]    # It prints the 0th index element\n",
    "second_element = my_list[1]  # It prints the 1st index element\n",
    "last_element = my_list[-1]    # Reverse order\n",
    "\n",
    "print(first_element)   \n",
    "print(second_element) \n",
    "print(last_element)   "
   ]
  },
  {
   "cell_type": "code",
   "execution_count": 8,
   "id": "b5ebb0b8",
   "metadata": {},
   "outputs": [
    {
     "name": "stdout",
     "output_type": "stream",
     "text": [
      "['windows', 'Parrot os', 'macos']\n"
     ]
    }
   ],
   "source": [
    "#Modifying the elements in the list -> We can modify elements in a list by assigning a new value to a specific index. Lists are mutable, so you can change the values of their elements.\n",
    "\n",
    "second_element = my_list[1]\n",
    "\n",
    "my_list[1] = \"Parrot os\"\n",
    "\n",
    "print(my_list)"
   ]
  },
  {
   "cell_type": "code",
   "execution_count": 10,
   "id": "d3bad03c",
   "metadata": {},
   "outputs": [
    {
     "name": "stdout",
     "output_type": "stream",
     "text": [
      "['windows', 'macos']\n"
     ]
    }
   ],
   "source": [
    "#Deleting the elements in the list -> Use del, pop(), remove(), or clear() to delete elements.\n",
    "\n",
    "del(my_list[1])\n",
    "\n",
    "print(my_list)"
   ]
  },
  {
   "cell_type": "raw",
   "id": "5a2d1556",
   "metadata": {},
   "source": [
    "Q4. Compare and contrast tuples and lists with examples?"
   ]
  },
  {
   "cell_type": "raw",
   "id": "6c3b5d4b",
   "metadata": {},
   "source": [
    "Answer. Tuples and lists are both versatile data structures in Python that are used to store collections of items. However, they have distinct differences in their properties and use cases.\n",
    "\n",
    "1. Mutability -> Lists are mutable, meaning you can change their content (add, remove, or modify elements) after they are created but whereas tuples are not mutable.\n",
    "\n",
    "2. Syntax -> Lists are defined using square brackets []. but tuples are defined using parenthesis ().\n",
    "\n",
    "3. Methods and operations -> Lists have various built-in methods for adding, removing, and manipulating elements (append(), remove(), extend(), pop(), etc.) but whereas tuple have fewer built-in methods, mainly count() and index(), due to their immutability. \n",
    "\n",
    "4. Indexing and Slicing -> Both lists and tuple supports indexing and the slicing.\n",
    "\n",
    "5. Performance -> Generally have a higher overhead due to their mutability. Operations that modify the list can be slower compared to tuples."
   ]
  },
  {
   "cell_type": "code",
   "execution_count": 11,
   "id": "2145f5f8",
   "metadata": {},
   "outputs": [
    {
     "name": "stdout",
     "output_type": "stream",
     "text": [
      "[1, 20, 3, 4]\n"
     ]
    }
   ],
   "source": [
    "#Example 1 mutability of list\n",
    "\n",
    "my_list = [1, 2, 3]\n",
    "my_list[1] = 20  # Modifying an element\n",
    "my_list.append(4)  # Adding a new element\n",
    "print(my_list)\n"
   ]
  },
  {
   "cell_type": "code",
   "execution_count": 15,
   "id": "7e6df681",
   "metadata": {},
   "outputs": [
    {
     "ename": "TypeError",
     "evalue": "'tuple' object does not support item assignment",
     "output_type": "error",
     "traceback": [
      "\u001b[0;31m---------------------------------------------------------------------------\u001b[0m",
      "\u001b[0;31mTypeError\u001b[0m                                 Traceback (most recent call last)",
      "Cell \u001b[0;32mIn[15], line 5\u001b[0m\n\u001b[1;32m      1\u001b[0m \u001b[38;5;66;03m#Example 1 for Tuple\u001b[39;00m\n\u001b[1;32m      3\u001b[0m my_tuple \u001b[38;5;241m=\u001b[39m (\u001b[38;5;241m1\u001b[39m,\u001b[38;5;241m4\u001b[39m,\u001b[38;5;241m7\u001b[39m)\n\u001b[0;32m----> 5\u001b[0m my_tuple[\u001b[38;5;241m1\u001b[39m] \u001b[38;5;241m=\u001b[39m \u001b[38;5;241m20\u001b[39m\n\u001b[1;32m      7\u001b[0m \u001b[38;5;28mprint\u001b[39m(my_tuple)\n",
      "\u001b[0;31mTypeError\u001b[0m: 'tuple' object does not support item assignment"
     ]
    }
   ],
   "source": [
    "#Example 1 for Tuple\n",
    "\n",
    "my_tuple = (1,4,7)\n",
    "\n",
    "my_tuple[1] = 20\n",
    "\n",
    "print(my_tuple)"
   ]
  },
  {
   "cell_type": "code",
   "execution_count": 17,
   "id": "695a8746",
   "metadata": {},
   "outputs": [],
   "source": [
    "#Example 2 on lists\n",
    "\n",
    "my_list = [1, 2, 3]\n",
    "my_list.append(4)  # Adds 4 to the list\n",
    "my_list.remove(2)  # Removes 2 from the list"
   ]
  },
  {
   "cell_type": "code",
   "execution_count": 18,
   "id": "f9b48693",
   "metadata": {},
   "outputs": [],
   "source": [
    "#Example 2 on tuple\n",
    "\n",
    "my_tuple = (1, 2, 2, 3)\n",
    "count_of_2 = my_tuple.count(2)  # Counts occurrences of 2\n",
    "index_of_3 = my_tuple.index(3)  # Finds the index of 3"
   ]
  },
  {
   "cell_type": "raw",
   "id": "f682e798",
   "metadata": {},
   "source": [
    "Q5. Describe the key features of sets and provide examples of their use?"
   ]
  },
  {
   "cell_type": "raw",
   "id": "e0afad53",
   "metadata": {},
   "source": [
    "Answer. Sets are a fundamental data structure in Python that represent an unordered collection of unique elements. They come with several key features and are particularly useful for various operations where uniqueness and membership testing are important. Let's deeply dive into the key features of the sets in detail.\n",
    "\n",
    "1. Unordered collection -> Sets do not maintain any order of elements. The elements are not indexed and cannot be accessed by index.\n",
    "\n",
    "2. Unique Elements -> Set will automatically removes the duplicate elements(repetition elements) and satisfies the rule that each element in a set must be unique.\n",
    "\n",
    "3. Mutable -> Sets are mutable, meaning you can add or remove elements after the set is created.\n",
    "\n",
    "4. No indexing will work in the set data type in the python.\n",
    "\n",
    "5. Mathematical set operations -> Sets support mathematical operations like union, intersection, difference, and symmetric difference. \n",
    "\n",
    "Let's understand each one with the examples for set datatype"
   ]
  },
  {
   "cell_type": "code",
   "execution_count": 19,
   "id": "4304047d",
   "metadata": {},
   "outputs": [
    {
     "name": "stdout",
     "output_type": "stream",
     "text": [
      "{1, 3, 4, 5}\n"
     ]
    }
   ],
   "source": [
    "#Example 1 set unordered collection, set unique elements\n",
    "\n",
    "my_set = {3, 1, 4, 1, 5, 4, 3, 1}\n",
    "print(my_set)"
   ]
  },
  {
   "cell_type": "code",
   "execution_count": 20,
   "id": "2272dfdb",
   "metadata": {},
   "outputs": [
    {
     "name": "stdout",
     "output_type": "stream",
     "text": [
      "{1, 3, 4}\n"
     ]
    }
   ],
   "source": [
    "#Example 2 set mutability\n",
    "\n",
    "my_set = {1, 2, 3}\n",
    "my_set.add(4)   # Adding an element\n",
    "my_set.remove(2)  # Removing an element\n",
    "print(my_set) "
   ]
  },
  {
   "cell_type": "code",
   "execution_count": 22,
   "id": "b1ea86bc",
   "metadata": {},
   "outputs": [
    {
     "name": "stdout",
     "output_type": "stream",
     "text": [
      "{1, 2, 3, 4, 5}\n",
      "{3}\n",
      "{1, 2}\n"
     ]
    }
   ],
   "source": [
    "#Example 3 set mathematical operations\n",
    "\n",
    "set1 = {1, 2, 3}\n",
    "set2 = {3, 4, 5}\n",
    "union_set = set1 | set2 \n",
    "print(union_set) \n",
    "\n",
    "intersection_set = set1 & set2  \n",
    "print(intersection_set)\n",
    "\n",
    "difference_set = set1 - set2 \n",
    "print(difference_set)"
   ]
  },
  {
   "cell_type": "raw",
   "id": "77f387f1",
   "metadata": {},
   "source": [
    "Q6. Discuss the use cases of tuples and sets in Python programming?"
   ]
  },
  {
   "cell_type": "raw",
   "id": "dccfc654",
   "metadata": {},
   "source": [
    "Answer. Tuples and sets are both useful data structures in Python, each with its unique characteristics and use cases. Let's deeply dive into the use cases of both tuple & set datatypes.\n",
    "\n",
    "Tuple (Use cases) ->\n",
    "\n",
    "1. Tuples are ideal for collections of items that should not change. They are used to group related pieces of data that remain constant throughout the program.\n",
    "2. Since tuples are immutable, they can be used as keys in dictionaries or elements in sets, unlike lists. This makes tuples suitable for cases where you need a hashable collection of items.\n",
    "3. Functions often return multiple values as tuples. This allows for a convenient way to return multiple results from a function.\n",
    "4. Tuples are commonly used to represent records or rows of data where each element represents a field in the record. They can be used to model database records or other structured data.\n",
    "\n",
    "Set (Use Cases) ->\n",
    "1. Sets are perfect for collections where uniqueness of elements is a requirement. They automatically handle duplicates, making them useful for filtering out repeated values.\n",
    "2. Sets support mathematical operations like union, intersection, difference, and symmetric difference, making them useful for tasks that involve set theory.\n",
    "3. Sets are often used to remove duplicates from a list. Converting a list to a set automatically filters out repeated elements.\n",
    "4. Sets are useful for operations on data such as determining which items are common to multiple collections or identifying elements that are unique to one collection."
   ]
  },
  {
   "cell_type": "raw",
   "id": "b22e6f72",
   "metadata": {},
   "source": [
    "Q7. Describe how to add, modify, and delete items in a dictionary with examples?"
   ]
  },
  {
   "cell_type": "raw",
   "id": "fdc63b2f",
   "metadata": {},
   "source": [
    "Answer. Dictionaries in Python programming language are versatile data structures that store key-value pairs. They are mutable, that means we can add, modify, and delete items. Let's deeply dive into adding the elements, modifying the elements, and deleting the elements from the dictionary.\n",
    "\n",
    "1. Adding the elements to the dictionary -> To add items to a dictionary, you assign a value to a new key. If the key already exists, the value associated with that key will be updated.\n",
    "\n",
    "2. Modifying the elements to the dictionary -> To modify an item in a dictionary, you assign a new value to an existing key. This operation updates the value associated with the key.\n",
    "\n",
    "3. Deleting an element in the dictionary -> Use del, pop(), popitem(), or clear() methods(any 1 of the methods) to delete an value/element present in the dictionary.\n",
    "\n",
    "Let's Understand deeply with the help of examples of dictionaries."
   ]
  },
  {
   "cell_type": "code",
   "execution_count": 23,
   "id": "97f3ab31",
   "metadata": {},
   "outputs": [
    {
     "name": "stdout",
     "output_type": "stream",
     "text": [
      "{'windows': 1, 'linux': 2, 'macos': 3, 'android': 4}\n"
     ]
    }
   ],
   "source": [
    "#Example of adding the elements in the dictionary with the help of update()\n",
    "\n",
    "# Creating an initial dictionary\n",
    "my_dict = {'windows': 1, 'linux': 2}\n",
    "\n",
    "# Adding multiple key-value pairs\n",
    "my_dict.update({'macos': 3, 'android': 4})\n",
    "\n",
    "print(my_dict)"
   ]
  },
  {
   "cell_type": "code",
   "execution_count": 24,
   "id": "03b0171d",
   "metadata": {},
   "outputs": [
    {
     "name": "stdout",
     "output_type": "stream",
     "text": [
      "{'windows': 1, 'linux': 5, 'macos': 3, 'android': 4}\n"
     ]
    }
   ],
   "source": [
    "#Example of modifying the elements in the dictionary\n",
    "\n",
    "# Modifying the value associated with the key 'linux'\n",
    "my_dict['linux'] = 5\n",
    "\n",
    "print(my_dict)"
   ]
  },
  {
   "cell_type": "code",
   "execution_count": 25,
   "id": "e1f94f3d",
   "metadata": {},
   "outputs": [
    {
     "name": "stdout",
     "output_type": "stream",
     "text": [
      "{'windows': 1, 'macos': 3, 'android': 4}\n"
     ]
    }
   ],
   "source": [
    "#Example of deleting the element in the dictionary \n",
    "\n",
    "# Deleting the item with key 'linux'\n",
    "del my_dict['linux']\n",
    "\n",
    "print(my_dict)"
   ]
  },
  {
   "cell_type": "raw",
   "id": "cd03dc41",
   "metadata": {},
   "source": [
    "Q8. Discuss the importance of dictionary keys being immutable and provide examples?"
   ]
  },
  {
   "cell_type": "raw",
   "id": "6d78a114",
   "metadata": {},
   "source": [
    "Answer. In Python programming language, dictionary keys are must be immutable, which means their values cannot be changed once they are created. They are many reasons stating that dictionary keys must be immutable the reasons are ->\n",
    "1. Immutable keys ensure that the dictionary remains consistent and reliable. If keys were mutable, changing the key's value could lead to inconsistencies and unpredictable behavior within the dictionary. Immutable keys prevent such issues by guaranteeing that the hash value of the key remains constant throughout its use in the dictionary.\n",
    "\n",
    "2. Immutable keys contribute to the efficiency of dictionary operations. Since the hash value of immutable objects remains constant, the dictionary can use this value to quickly locate and access the associated value. This ensures that operations like insertion, deletion, and look-up are performed efficiently.\n",
    "\n",
    "Let's deeply dive into the examples"
   ]
  },
  {
   "cell_type": "code",
   "execution_count": 26,
   "id": "a4670ea9",
   "metadata": {},
   "outputs": [
    {
     "name": "stdout",
     "output_type": "stream",
     "text": [
      "Shanmuk\n"
     ]
    }
   ],
   "source": [
    "#Examples of immutable keys (strings)\n",
    "\n",
    "# Using strings as dictionary keys\n",
    "my_dict = {'name': 'Shanmuk', 'age': 23}\n",
    "print(my_dict['name']) "
   ]
  },
  {
   "cell_type": "code",
   "execution_count": 27,
   "id": "3e39dc57",
   "metadata": {},
   "outputs": [
    {
     "name": "stdout",
     "output_type": "stream",
     "text": [
      "100\n"
     ]
    }
   ],
   "source": [
    "#Example 2 (Using tuple as a dictionary keys)\n",
    "\n",
    "my_dict = {('a', 'b'): 100, ('c', 'd'): 200}\n",
    "print(my_dict[('a', 'b')])"
   ]
  }
 ],
 "metadata": {
  "kernelspec": {
   "display_name": "Python 3 (ipykernel)",
   "language": "python",
   "name": "python3"
  },
  "language_info": {
   "codemirror_mode": {
    "name": "ipython",
    "version": 3
   },
   "file_extension": ".py",
   "mimetype": "text/x-python",
   "name": "python",
   "nbconvert_exporter": "python",
   "pygments_lexer": "ipython3",
   "version": "3.11.5"
  }
 },
 "nbformat": 4,
 "nbformat_minor": 5
}
